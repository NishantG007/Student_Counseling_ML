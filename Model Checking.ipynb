{
 "cells": [
  {
   "cell_type": "code",
   "execution_count": 1,
   "id": "632605be",
   "metadata": {},
   "outputs": [],
   "source": [
    "import pandas as pd\n",
    "import joblib"
   ]
  },
  {
   "cell_type": "code",
   "execution_count": 3,
   "id": "904deda8",
   "metadata": {},
   "outputs": [],
   "source": [
    "model = joblib.load(\"D:/Programming/Mini Project/Student_Depression/Jupyter/logistic_model.pkl\")\n",
    "scaler = joblib.load(\"D:/Programming/Mini Project/Student_Depression/Jupyter/scaler.pkl\")"
   ]
  },
  {
   "cell_type": "code",
   "execution_count": 4,
   "id": "0bb700db",
   "metadata": {},
   "outputs": [],
   "source": [
    "input_data = {\n",
    "    'age': [25],\n",
    "    'academic_pressure': [7],\n",
    "    'cgpa': [4.5],\n",
    "    'study_satisfaction': [2],\n",
    "    'sleep_duration': [3],\n",
    "    'dietary_habits': [5],\n",
    "    'have_you_ever_had_suicidal_thoughts_': [0],  # 0 = No, 1 = Yes\n",
    "    'work/study_hours': [6],\n",
    "    'financial_stress': [4],\n",
    "    'family_history_of_mental_illness': [0]\n",
    "}\n"
   ]
  },
  {
   "cell_type": "code",
   "execution_count": 5,
   "id": "103cfbe1",
   "metadata": {},
   "outputs": [],
   "source": [
    "input_df = pd.DataFrame(input_data)"
   ]
  },
  {
   "cell_type": "code",
   "execution_count": 6,
   "id": "53871fb4",
   "metadata": {},
   "outputs": [],
   "source": [
    "input_scaled = scaler.transform(input_df)"
   ]
  },
  {
   "cell_type": "code",
   "execution_count": 7,
   "id": "8aa04dec",
   "metadata": {},
   "outputs": [],
   "source": [
    "prediction = model.predict(input_scaled)"
   ]
  },
  {
   "cell_type": "code",
   "execution_count": 8,
   "id": "d8f23dc9",
   "metadata": {},
   "outputs": [
    {
     "name": "stdout",
     "output_type": "stream",
     "text": [
      "Prediction: 1\n"
     ]
    }
   ],
   "source": [
    "print(\"Prediction:\", prediction[0])"
   ]
  },
  {
   "cell_type": "code",
   "execution_count": null,
   "id": "f25644b4",
   "metadata": {},
   "outputs": [],
   "source": []
  }
 ],
 "metadata": {
  "kernelspec": {
   "display_name": "Python 3",
   "language": "python",
   "name": "python3"
  },
  "language_info": {
   "codemirror_mode": {
    "name": "ipython",
    "version": 3
   },
   "file_extension": ".py",
   "mimetype": "text/x-python",
   "name": "python",
   "nbconvert_exporter": "python",
   "pygments_lexer": "ipython3",
   "version": "3.11.9"
  }
 },
 "nbformat": 4,
 "nbformat_minor": 5
}
